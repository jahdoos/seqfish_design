{
 "cells": [
  {
   "cell_type": "code",
   "execution_count": 1,
   "metadata": {
    "collapsed": false
   },
   "outputs": [
    {
     "name": "stdout",
     "output_type": "stream",
     "text": [
      "Populating the interactive namespace from numpy and matplotlib\n"
     ]
    }
   ],
   "source": [
    "%pylab inline"
   ]
  },
  {
   "cell_type": "code",
   "execution_count": 2,
   "metadata": {
    "collapsed": true
   },
   "outputs": [],
   "source": [
    "import itertools as it\n",
    "import numpy as np\n",
    "from scipy.spatial.distance import hamming\n",
    "from collections import Counter\n",
    "import pandas as pd"
   ]
  },
  {
   "cell_type": "code",
   "execution_count": 3,
   "metadata": {
    "collapsed": true
   },
   "outputs": [],
   "source": [
    "number_bits = 18\n",
    "min_dist=4"
   ]
  },
  {
   "cell_type": "code",
   "execution_count": 46,
   "metadata": {
    "collapsed": false
   },
   "outputs": [],
   "source": [
    "inds_4 = list(it.combinations(range(number_bits), 4))\n",
    "inds_3 = list(it.combinations(range(number_bits), 3))\n",
    "inds_5 = list(it.combinations(range(number_bits), 5))\n",
    "inds_6 = list(it.combinations(range(number_bits), 6))"
   ]
  },
  {
   "cell_type": "code",
   "execution_count": 47,
   "metadata": {
    "collapsed": false
   },
   "outputs": [],
   "source": [
    "codewords = np.zeros((len(list(inds_4)), number_bits))\n",
    "i = 0\n",
    "# for c in inds_3:\n",
    "#     codewords[i, c] = 1\n",
    "#     i+=1\n",
    "for c in inds_4:\n",
    "    codewords[i, c] = 1\n",
    "    i+=1\n",
    "# for c in inds_5:\n",
    "#     codewords[i, c] = 1\n",
    "#     i+=1\n",
    "# for c in inds_6:\n",
    "#     codewords[i, c] = 1\n",
    "#     i+=1\n"
   ]
  },
  {
   "cell_type": "code",
   "execution_count": 33,
   "metadata": {
    "collapsed": false
   },
   "outputs": [
    {
     "data": {
      "text/plain": [
       "array([[ 0.,  0.,  1., ...,  1.,  0.,  0.],\n",
       "       [ 0.,  0.,  0., ...,  0.,  0.,  1.],\n",
       "       [ 1.,  0.,  0., ...,  0.,  0.,  0.],\n",
       "       ..., \n",
       "       [ 0.,  0.,  0., ...,  0.,  0.,  0.],\n",
       "       [ 0.,  1.,  0., ...,  1.,  0.,  0.],\n",
       "       [ 0.,  1.,  0., ...,  1.,  0.,  0.]])"
      ]
     },
     "execution_count": 33,
     "metadata": {},
     "output_type": "execute_result"
    }
   ],
   "source": [
    "codewords"
   ]
  },
  {
   "cell_type": "code",
   "execution_count": 14,
   "metadata": {
    "collapsed": true
   },
   "outputs": [],
   "source": [
    "def write_codebook(codewords, fname):\n",
    "    codestrings = []\n",
    "    for c in codewords:\n",
    "        if sum(c)==0:\n",
    "            continue\n",
    "        s = ''\n",
    "        for i in c:\n",
    "            s += str(int(i))\n",
    "        codestrings.append(s)\n",
    "        if s.count('1') !=4:\n",
    "            print('Oh No!')\n",
    "    with open(fname, 'w') as f:\n",
    "        f.write('codeword\\n')\n",
    "        for c in codestrings:\n",
    "            f.write(c+'\\n')"
   ]
  },
  {
   "cell_type": "code",
   "execution_count": 13,
   "metadata": {
    "collapsed": false
   },
   "outputs": [],
   "source": [
    "def purge_badwords(codewords, min_dist=4, stringency_switch=100):\n",
    "    i = 0\n",
    "    while i<codewords.shape[0]:\n",
    "        if i==stringency_switch:\n",
    "            min_dist = 2\n",
    "        word = codewords[i, :]\n",
    "        idxes_below_cutoff = [j for j in range(codewords.shape[0]) if np.count_nonzero(word != codewords[j, :]) < min_dist]\n",
    "        codewords = np.delete(codewords, idxes_below_cutoff[1:], axis=0)\n",
    "        i+=1\n",
    "        \n",
    "    return codewords"
   ]
  },
  {
   "cell_type": "code",
   "execution_count": 51,
   "metadata": {
    "collapsed": false
   },
   "outputs": [
    {
     "name": "stdout",
     "output_type": "stream",
     "text": [
      "Counter({4.0: 240})\n",
      "Counter({4.0: 182})\n",
      "Counter({4.0: 167})\n",
      "Counter({4.0: 152})\n"
     ]
    }
   ],
   "source": [
    "code_scaling = []\n",
    "for i in range(110, 146, 10):\n",
    "    cwords = codewords.copy()\n",
    "    cwords = np.random.permutation(cwords)\n",
    "    cwords = purge_badwords(cwords, stringency_switch=i)\n",
    "    counts = Counter(np.sum(cwords, axis=1))\n",
    "    code_scaling.append((i, counts[4.0]))\n",
    "    print(counts)"
   ]
  },
  {
   "cell_type": "code",
   "execution_count": null,
   "metadata": {
    "collapsed": false
   },
   "outputs": [],
   "source": []
  },
  {
   "cell_type": "code",
   "execution_count": 35,
   "metadata": {
    "collapsed": false
   },
   "outputs": [
    {
     "data": {
      "text/plain": [
       "<matplotlib.text.Text at 0x116955b90>"
      ]
     },
     "execution_count": 35,
     "metadata": {},
     "output_type": "execute_result"
    },
    {
     "data": {
      "image/png": "[encoded data removed]",
      "text/plain": [
       "<matplotlib.figure.Figure at 0x1168dec50>"
      ]
     },
     "metadata": {},
     "output_type": "display_data"
    }
   ],
   "source": [
    "corrected, total = zip(*code_scaling)\n",
    "plt.plot(corrected, total)\n",
    "plt.xlabel('Number Genes Correcting Code')\n",
    "plt.ylabel('Total Gene Capacity')"
   ]
  },
  {
   "cell_type": "code",
   "execution_count": 22,
   "metadata": {
    "collapsed": false
   },
   "outputs": [],
   "source": [
    "write_codebook(cwords, './cbook_140MHD4_200MHD2.txt')"
   ]
  },
  {
   "cell_type": "code",
   "execution_count": 26,
   "metadata": {
    "collapsed": false
   },
   "outputs": [
    {
     "data": {
      "text/plain": [
       "(154, 18)"
      ]
     },
     "execution_count": 26,
     "metadata": {},
     "output_type": "execute_result"
    }
   ],
   "source": [
    "cwords = purge_badwords(codewords, stringency_switch=140)\n",
    "cwords.shape"
   ]
  },
  {
   "cell_type": "code",
   "execution_count": 254,
   "metadata": {
    "collapsed": false
   },
   "outputs": [
    {
     "name": "stdout",
     "output_type": "stream",
     "text": [
      "Counter({4.0: 428})\n",
      "Counter({4.0: 412})\n",
      "Counter({4.0: 396})\n",
      "Counter({4.0: 380})\n",
      "Counter({4.0: 364})\n",
      "Counter({4.0: 340})\n",
      "Counter({4.0: 296})\n",
      "Counter({4.0: 268})\n",
      "Counter({4.0: 240})\n",
      "Counter({4.0: 216})\n"
     ]
    }
   ],
   "source": [
    "code_scaling = []\n",
    "for i in range(120, 140, 2):\n",
    "    cwords = codewords.copy()\n",
    "    cwords = purge_badwords(cwords, stringency_switch=i)\n",
    "    counts = Counter(np.sum(cwords, axis=1))\n",
    "    code_scaling.append((i, counts[4.0]))\n",
    "    print(counts)"
   ]
  },
  {
   "cell_type": "code",
   "execution_count": 255,
   "metadata": {
    "collapsed": false
   },
   "outputs": [
    {
     "data": {
      "text/plain": [
       "<matplotlib.text.Text at 0x11009e450>"
      ]
     },
     "execution_count": 255,
     "metadata": {},
     "output_type": "execute_result"
    },
    {
     "data": {
      "image/png": "[encoded data removed]",
      "text/plain": [
       "<matplotlib.figure.Figure at 0x11d3cac50>"
      ]
     },
     "metadata": {},
     "output_type": "display_data"
    }
   ],
   "source": [
    "corrected, total = zip(*code_scaling)\n",
    "plt.plot(corrected, total)\n",
    "plt.xlabel('Number Genes Correcting Code')\n",
    "plt.ylabel('Total Gene Capacity')"
   ]
  },
  {
   "cell_type": "code",
   "execution_count": 252,
   "metadata": {
    "collapsed": false
   },
   "outputs": [],
   "source": [
    "min_dists = []\n",
    "for i, c in enumerate(cwords):\n",
    "    min_dist = []\n",
    "    for j in range(i+1, cwords.shape[0]):\n",
    "        min_dist.append(hamming(c, cwords[j, :]))\n",
    "    try:\n",
    "        min_dists.append(np.amin(min_dist)*number_bits)\n",
    "    except:\n",
    "        continue"
   ]
  },
  {
   "cell_type": "code",
   "execution_count": 270,
   "metadata": {
    "collapsed": false
   },
   "outputs": [
    {
     "data": {
      "text/plain": [
       "Counter({2.0: 263, 4.0: 125})"
      ]
     },
     "execution_count": 270,
     "metadata": {},
     "output_type": "execute_result"
    }
   ],
   "source": [
    "cwords = purge_badwords(codewords, stringency_switch=125)\n",
    "min_dists = []\n",
    "ave_dist = []\n",
    "prc90_dist = []\n",
    "for i, c in enumerate(cwords):\n",
    "    min_dist = []\n",
    "    for j in range(cwords.shape[0]):\n",
    "        if i==j:\n",
    "            continue\n",
    "        min_dist.append(hamming(c, cwords[j, :]))\n",
    "    try:\n",
    "        min_dists.append(np.amin(min_dist)*number_bits)\n",
    "        ave_dist.append(np.mean(min_dist)*number_bits)\n",
    "        prc90_dist.append(np.percentile(min_dist, )*number_bits)\n",
    "    except:\n",
    "        continue\n",
    "Counter(min_dists)"
   ]
  },
  {
   "cell_type": "code",
   "execution_count": 271,
   "metadata": {
    "collapsed": false
   },
   "outputs": [
    {
     "data": {
      "text/plain": [
       "(array([ 263.,    0.,    0.,    0.,    0.,    0.,    0.,    0.,    0.,  125.]),\n",
       " array([ 2. ,  2.2,  2.4,  2.6,  2.8,  3. ,  3.2,  3.4,  3.6,  3.8,  4. ]),\n",
       " <a list of 10 Patch objects>)"
      ]
     },
     "execution_count": 271,
     "metadata": {},
     "output_type": "execute_result"
    },
    {
     "data": {
      "image/png": "[encoded data removed]",
      "text/plain": [
       "<matplotlib.figure.Figure at 0x12012b610>"
      ]
     },
     "metadata": {},
     "output_type": "display_data"
    }
   ],
   "source": [
    "plt.hist(prc90_dist)"
   ]
  },
  {
   "cell_type": "code",
   "execution_count": 17,
   "metadata": {
    "collapsed": false
   },
   "outputs": [
    {
     "data": {
      "text/plain": [
       "array([ 1.,  1.,  1.,  1.,  0.,  0.,  0.,  0.,  0.,  0.,  0.,  0.,  0.,\n",
       "        0.,  0.,  0.,  0.,  0.])"
      ]
     },
     "execution_count": 17,
     "metadata": {},
     "output_type": "execute_result"
    }
   ],
   "source": [
    "cwords[0, :]"
   ]
  },
  {
   "cell_type": "code",
   "execution_count": 281,
   "metadata": {
    "collapsed": false
   },
   "outputs": [
    {
     "data": {
      "text/plain": [
       "387"
      ]
     },
     "execution_count": 281,
     "metadata": {},
     "output_type": "execute_result"
    }
   ],
   "source": [
    "len(min_dist)"
   ]
  },
  {
   "cell_type": "code",
   "execution_count": 283,
   "metadata": {
    "collapsed": false
   },
   "outputs": [],
   "source": []
  },
  {
   "cell_type": "code",
   "execution_count": null,
   "metadata": {
    "collapsed": true
   },
   "outputs": [],
   "source": []
  }
 ],
 "metadata": {
  "kernelspec": {
   "display_name": "Python 3",
   "language": "python",
   "name": "python3"
  },
  "language_info": {
   "codemirror_mode": {
    "name": "ipython",
    "version": 3
   },
   "file_extension": ".py",
   "mimetype": "text/x-python",
   "name": "python",
   "nbconvert_exporter": "python",
   "pygments_lexer": "ipython3",
   "version": "3.5.1"
  }
 },
 "nbformat": 4,
 "nbformat_minor": 2
}
